{
 "cells": [
  {
   "cell_type": "code",
   "execution_count": null,
   "id": "B3E3EhuDdE_N",
   "metadata": {
    "colab": {
     "base_uri": "https://localhost:8080/"
    },
    "executionInfo": {
     "elapsed": 415,
     "status": "ok",
     "timestamp": 1635587851296,
     "user": {
      "displayName": "Raphael Nepomuceno",
      "photoUrl": "https://lh3.googleusercontent.com/a-/AOh14GgL3smV3gDbD-wz9oi8Ki6ZiwZcp3ccHwaZLCXl8A=s64",
      "userId": "04510237599294724427"
     },
     "user_tz": 180
    },
    "id": "B3E3EhuDdE_N",
    "outputId": "1c5b4629-75ae-4692-8c99-3e9913c1cb1a"
   },
   "outputs": [],
   "source": [
    "!nvidia-smi"
   ]
  },
  {
   "cell_type": "code",
   "execution_count": null,
   "id": "b56c5d60",
   "metadata": {
    "colab": {
     "base_uri": "https://localhost:8080/"
    },
    "executionInfo": {
     "elapsed": 7907,
     "status": "ok",
     "timestamp": 1635587859597,
     "user": {
      "displayName": "Raphael Nepomuceno",
      "photoUrl": "https://lh3.googleusercontent.com/a-/AOh14GgL3smV3gDbD-wz9oi8Ki6ZiwZcp3ccHwaZLCXl8A=s64",
      "userId": "04510237599294724427"
     },
     "user_tz": 180
    },
    "id": "b56c5d60",
    "outputId": "b43a52d5-be6d-4554-893f-837f8c5f5c1e"
   },
   "outputs": [],
   "source": [
    "!pip install 'git+https://github.com/rphln/Cardboard4.git@code' 'kornia==0.5.11'"
   ]
  },
  {
   "cell_type": "code",
   "execution_count": null,
   "id": "5ad9afdc",
   "metadata": {
    "executionInfo": {
     "elapsed": 1984,
     "status": "ok",
     "timestamp": 1635587861571,
     "user": {
      "displayName": "Raphael Nepomuceno",
      "photoUrl": "https://lh3.googleusercontent.com/a-/AOh14GgL3smV3gDbD-wz9oi8Ki6ZiwZcp3ccHwaZLCXl8A=s64",
      "userId": "04510237599294724427"
     },
     "user_tz": 180
    },
    "id": "5ad9afdc"
   },
   "outputs": [],
   "source": [
    "from os import environ\n",
    "from pathlib import Path\n",
    "\n",
    "import torch\n",
    "from ignite.contrib.handlers import ProgressBar, WandBLogger\n",
    "from ignite.engine import Events, create_supervised_evaluator, create_supervised_trainer\n",
    "from ignite.handlers import (\n",
    "    Checkpoint,\n",
    "    DiskSaver,\n",
    "    EarlyStopping,\n",
    "    LRScheduler,\n",
    "    global_step_from_engine,\n",
    ")\n",
    "from ignite.metrics import Loss, RunningAverage\n",
    "from sklearn.model_selection import train_test_split\n",
    "from torch import Tensor\n",
    "from torch.nn.functional import mse_loss\n",
    "from torch.optim import Adam\n",
    "from torch.optim.lr_scheduler import StepLR\n",
    "from torch.utils.data import DataLoader\n",
    "\n",
    "from cardboard4 import TensorPairsDataset, mean_psnr, mean_ssim, MultiScaleSSIM\n",
    "from cardboard4.models import ResidualNetwork\n",
    "\n",
    "from kornia.color import rgb_to_grayscale\n",
    "from kornia.filters import gaussian_blur2d"
   ]
  },
  {
   "cell_type": "code",
   "execution_count": null,
   "id": "1e1e1c54",
   "metadata": {
    "colab": {
     "base_uri": "https://localhost:8080/"
    },
    "executionInfo": {
     "elapsed": 622,
     "status": "ok",
     "timestamp": 1635587862189,
     "user": {
      "displayName": "Raphael Nepomuceno",
      "photoUrl": "https://lh3.googleusercontent.com/a-/AOh14GgL3smV3gDbD-wz9oi8Ki6ZiwZcp3ccHwaZLCXl8A=s64",
      "userId": "04510237599294724427"
     },
     "user_tz": 180
    },
    "id": "1e1e1c54",
    "outputId": "61cb693b-182e-4e97-c6ee-be4c212bab7e"
   },
   "outputs": [],
   "source": [
    "try:\n",
    "    from google.colab import drive\n",
    "\n",
    "    drive.mount(\"/content/drive/\", force_remount=True)\n",
    "except ImportError:\n",
    "    ROOT = Path(\"var/\")\n",
    "else:\n",
    "    ROOT = Path(\"/content/drive/MyDrive/\")\n",
    "finally:\n",
    "    ROOT.mkdir(parents=True, exist_ok=True)"
   ]
  },
  {
   "cell_type": "code",
   "execution_count": null,
   "id": "00cbf088",
   "metadata": {
    "colab": {
     "base_uri": "https://localhost:8080/"
    },
    "executionInfo": {
     "elapsed": 7,
     "status": "ok",
     "timestamp": 1635587862189,
     "user": {
      "displayName": "Raphael Nepomuceno",
      "photoUrl": "https://lh3.googleusercontent.com/a-/AOh14GgL3smV3gDbD-wz9oi8Ki6ZiwZcp3ccHwaZLCXl8A=s64",
      "userId": "04510237599294724427"
     },
     "user_tz": 180
    },
    "id": "00cbf088",
    "outputId": "bd7dee67-0a42-4e8f-8e7d-407ac511a2ae"
   },
   "outputs": [],
   "source": [
    "!rsync --archive --ignore-existing --human-readable --info progress2 '/content/drive/MyDrive/rphln-danbooru2020-small/' '/dev/shm/'"
   ]
  },
  {
   "cell_type": "code",
   "execution_count": null,
   "id": "5342886f",
   "metadata": {
    "colab": {
     "base_uri": "https://localhost:8080/"
    },
    "executionInfo": {
     "elapsed": 1971,
     "status": "ok",
     "timestamp": 1635587864157,
     "user": {
      "displayName": "Raphael Nepomuceno",
      "photoUrl": "https://lh3.googleusercontent.com/a-/AOh14GgL3smV3gDbD-wz9oi8Ki6ZiwZcp3ccHwaZLCXl8A=s64",
      "userId": "04510237599294724427"
     },
     "user_tz": 180
    },
    "id": "5342886f",
    "outputId": "6987a335-48f8-4967-9f23-5b75f22dbbdc"
   },
   "outputs": [],
   "source": [
    "!cp -r '/content/drive/MyDrive/.netrc' '/root/.netrc'\n",
    "!wandb sync '/content/drive/MyDrive/wandb/latest-run/'"
   ]
  },
  {
   "cell_type": "code",
   "execution_count": null,
   "id": "a4834b46",
   "metadata": {
    "colab": {
     "base_uri": "https://localhost:8080/",
     "height": 173
    },
    "executionInfo": {
     "elapsed": 9842,
     "status": "ok",
     "timestamp": 1635587873996,
     "user": {
      "displayName": "Raphael Nepomuceno",
      "photoUrl": "https://lh3.googleusercontent.com/a-/AOh14GgL3smV3gDbD-wz9oi8Ki6ZiwZcp3ccHwaZLCXl8A=s64",
      "userId": "04510237599294724427"
     },
     "user_tz": 180
    },
    "id": "a4834b46",
    "outputId": "e82d68a5-0d40-4321-bf56-fd6f1654fead"
   },
   "outputs": [],
   "source": [
    "config = {\n",
    "    \"BATCH_SIZE\": 16,\n",
    "    \"LEARNING_RATE\": 1e-3,\n",
    "    \"PATIENCE\": 50,\n",
    "}\n",
    "\n",
    "device = torch.device(\"cuda\")\n",
    "\n",
    "if True:\n",
    "    checkpoint = None\n",
    "else:\n",
    "    environ[\"WANDB_RESUME\"] = \"allow\"\n",
    "    environ[\"WANDB_RUN_ID\"] = \"365ogza8\"\n",
    "\n",
    "    checkpoint = torch.load(\n",
    "        ROOT\n",
    "        / \"wandb\"\n",
    "        / f\"run-20210722_175244-{environ['WANDB_RUN_ID']}\"\n",
    "        / \"files\"\n",
    "        / \"checkpoint_192_loss=-0.0061.pt\"\n",
    "    )\n",
    "\n",
    "# test_with = TensorPairsDataset(ROOT / \"rphln-danbooru2020-small\" / \"test\")\n",
    "# train_with = TensorPairsDataset(ROOT / \"rphln-danbooru2020-small\" / \"train\")\n",
    "\n",
    "test_with = TensorPairsDataset(Path(\"/dev/shm/test\"))\n",
    "train_with = TensorPairsDataset(Path(\"/dev/shm/train\"))\n",
    "\n",
    "def pencil_sketch(image: Tensor, eps: float = 1e-24) -> Tensor:\n",
    "    greyscale = rgb_to_grayscale(image)\n",
    "    blurred = gaussian_blur2d(greyscale, kernel_size=(21, 21), sigma=(1.0, 1.0))\n",
    "\n",
    "    return torch.clamp((greyscale + eps) / (blurred + eps), 0.0, 1.0)\n",
    "\n",
    "\n",
    "def criterion(x, y):\n",
    "    return mse_loss(x, y) + mse_loss(pencil_sketch(x), pencil_sketch(y))\n",
    "\n",
    "model = ResidualNetwork().to(device)\n",
    "\n",
    "optimizer = Adam(model.parameters(), lr=config[\"LEARNING_RATE\"])\n",
    "\n",
    "trainer = create_supervised_trainer(model, optimizer, criterion, device)\n",
    "\n",
    "scheduler = StepLR(optimizer, step_size=50, gamma=0.1, verbose=True)\n",
    "trainer.add_event_handler(Events.EPOCH_COMPLETED, LRScheduler(scheduler))\n",
    "\n",
    "metrics = {\n",
    "    \"loss\": Loss(criterion),\n",
    "    \"psnr\": Loss(mean_psnr),\n",
    "    \"ssim\": Loss(mean_ssim),\n",
    "}\n",
    "\n",
    "validation = create_supervised_evaluator(model, metrics, device)\n",
    "testing = create_supervised_evaluator(model, metrics, device)\n",
    "\n",
    "average = RunningAverage(output_transform=lambda loss: loss)\n",
    "average.attach(trainer, \"loss\")\n",
    "\n",
    "progress = ProgressBar()\n",
    "progress.attach(trainer, metric_names=\"all\")\n",
    "\n",
    "train_with, validate_with = train_test_split(train_with, test_size=0.2, shuffle=False)\n",
    "\n",
    "training_data_loader = DataLoader(\n",
    "    train_with,\n",
    "    config[\"BATCH_SIZE\"],\n",
    "    drop_last=True,\n",
    "    pin_memory=True,\n",
    ")\n",
    "validation_data_loader = DataLoader(\n",
    "    validate_with,\n",
    "    config[\"BATCH_SIZE\"],\n",
    "    drop_last=True,\n",
    "    pin_memory=True,\n",
    ")\n",
    "testing_data_loader = DataLoader(\n",
    "    test_with,\n",
    "    config[\"BATCH_SIZE\"],\n",
    "    drop_last=True,\n",
    "    pin_memory=True,\n",
    ")\n",
    "\n",
    "\n",
    "@trainer.on(Events.EPOCH_COMPLETED)\n",
    "def compute_metrics():\n",
    "    validation.run(validation_data_loader)\n",
    "\n",
    "\n",
    "@trainer.on(Events.COMPLETED)\n",
    "def compute_testing_metrics():\n",
    "    testing.run(testing_data_loader)\n",
    "\n",
    "\n",
    "logger = WandBLogger(\n",
    "    project=\"Cardboard4\",\n",
    "    config=config,\n",
    "    save_code=True,\n",
    "    dir=ROOT,\n",
    "    name=\"Residual@PencilSketch\",\n",
    "    tags=[model.__class__.__name__, \"PencilSketch\", \"Check\"],\n",
    ")\n",
    "logger.watch(model, criterion, log=\"all\")\n",
    "\n",
    "logger.attach_output_handler(\n",
    "    engine=trainer,\n",
    "    event_name=Events.EPOCH_COMPLETED,\n",
    "    tag=\"training\",\n",
    "    metric_names=\"all\",\n",
    "    global_step_transform=global_step_from_engine(trainer),\n",
    ")\n",
    "\n",
    "logger.attach_output_handler(\n",
    "    engine=validation,\n",
    "    event_name=Events.EPOCH_COMPLETED,\n",
    "    tag=\"validation\",\n",
    "    metric_names=\"all\",\n",
    "    global_step_transform=global_step_from_engine(trainer),\n",
    ")\n",
    "\n",
    "logger.attach_output_handler(\n",
    "    engine=testing,\n",
    "    event_name=Events.EPOCH_COMPLETED,\n",
    "    tag=\"testing\",\n",
    "    metric_names=\"all\",\n",
    "    global_step_transform=global_step_from_engine(trainer),\n",
    ")\n",
    "\n",
    "neg_loss_score = Checkpoint.get_default_score_fn(\"loss\", -1.0)\n",
    "\n",
    "halt = EarlyStopping(\n",
    "    trainer=trainer,\n",
    "    patience=config[\"PATIENCE\"],\n",
    "    score_function=neg_loss_score,\n",
    ")\n",
    "validation.add_event_handler(Events.COMPLETED, halt)\n",
    "\n",
    "validation.add_event_handler(\n",
    "    Events.COMPLETED,\n",
    "    Checkpoint(\n",
    "        n_saved=10,\n",
    "        to_save={\n",
    "            \"scheduler\": scheduler,\n",
    "            \"halt\": halt,\n",
    "            \"model\": model,\n",
    "            \"optimizer\": optimizer,\n",
    "            \"trainer\": trainer,\n",
    "            \"validator\": validation,\n",
    "        },\n",
    "        include_self=True,\n",
    "        save_handler=DiskSaver(dirname=logger.run.dir, require_empty=False),\n",
    "        score_name=\"loss\",\n",
    "        score_function=neg_loss_score,\n",
    "        global_step_transform=global_step_from_engine(trainer),\n",
    "    ),\n",
    ")"
   ]
  },
  {
   "cell_type": "code",
   "execution_count": null,
   "id": "03430a88",
   "metadata": {
    "colab": {
     "base_uri": "https://localhost:8080/",
     "height": 390,
     "referenced_widgets": [
      "0299cad7a2154672a0e32d86d5bab492",
      "6fbd512a5f9842028aa656095acdc3cd",
      "17caafb631c94fd48118948ed44e47a5",
      "f191b23b772a49cd9eb879f56cc26857",
      "396c214884554985a17d7adc3d7183d9",
      "22f00d10b0464c5883f26a7873141d46",
      "6fd97804ff0d4879acf71ec3a3cebcd8",
      "70ab555fa9cc45acab384fd6ba9aae2f",
      "73ae8672080942afa10c687e85cbefe1",
      "21503a0c1c144674928e8cd9249c6915",
      "bbaa0b0b1c394278abdc3c9044ec83ea",
      "0d53468b0e044db8af7b76bf6bd90d23",
      "4ce1962b5ba94e27888f8a091cf20d86",
      "1c87cf1f980f49539397cecbe542a753",
      "ba1a0af7644b427f9a5944d36bc7c5d7",
      "928115ddb67b46bd86a554686ccc28c1",
      "b02021beab06488b9ba6fd567f8943a7",
      "8bcd831c30844b2d8265ed034f79620d",
      "f23c189690ea41729309d50604391dc1",
      "5ee2ff5f8dc34d30ad250d5e483853b7",
      "807f2c72fcf640e8b8f29aca89653096",
      "f477e71c8a8242e6a68c498cff61ca04",
      "8e06590086ec4e3794ee53e24811b2b4",
      "45c5a005c90e47fdb56ec081a30f8605",
      "c7ee32fadc604356a37e33a30b649973",
      "e11b70f9ad9c4bdfb8f94719a13ae445",
      "bc1a7e006ab94dd0a16677fa304f5639",
      "b2b9726532084f5d8a651f9beff6820f",
      "09d7cb2df3c547588e39521e79cbd3b9",
      "7b107478db1842eabe4756fe561d4353",
      "e1e3924e960f4c69bc279669c207b43c",
      "622225dea9384862a1706345c3d7243c",
      "d1b4a0174cca47ba82f12260388b941f",
      "2f9517fbcf9244c2bb50f07314998803",
      "cfa0e4fb286046cda0976ed88ece0083",
      "7bac688bbdf544ac9bccefa6a01d2fb3",
      "7b77b61acf0c4f1db6f67071a2683283",
      "02fad0b8ef3844d990507a6e05b23f26",
      "e9fd518b5a2d44b7adda009bd249d2d2",
      "2a0b7e8f2c714e88967e95e7394384b5",
      "42ff0ff161d34c2d996e91e8706d99d7",
      "8ffecf56601144aabb8f6a78119e6eae",
      "0fb82123bd8e40c286a4552e54efcd0f",
      "c887733604cd4eed9e75d39f85abf283",
      "2c72b1b53b0246e2be54a5551c9fa392",
      "eb8f582fc687437d9b371953d0bb0892",
      "32ed84f03caa47f5ae0389e4f5156091",
      "ba343e11e9c548f4bc8c1d516fad20da",
      "330111097c674ea2b0d8b8d3d1a2d8c0",
      "efa14ecbdf5745abb10b4f34ab2ab46b",
      "fb322bb67a804e65bbfb5436fa618214",
      "69e8281b0a7b4fb3b773ac50032420bb",
      "3bc5f558463d4b33ac94b6e06d6e16ac",
      "6ecfad70749b4dafb4ecad24f8142781",
      "e4ebb6fb27494dd3a2a61b9ca699eb2d"
     ]
    },
    "executionInfo": {
     "elapsed": 1106439,
     "status": "error",
     "timestamp": 1635588980430,
     "user": {
      "displayName": "Raphael Nepomuceno",
      "photoUrl": "https://lh3.googleusercontent.com/a-/AOh14GgL3smV3gDbD-wz9oi8Ki6ZiwZcp3ccHwaZLCXl8A=s64",
      "userId": "04510237599294724427"
     },
     "user_tz": 180
    },
    "id": "03430a88",
    "outputId": "33e8c0ef-5733-437c-f360-9a9d40b1e65c"
   },
   "outputs": [],
   "source": [
    "if checkpoint:\n",
    "    scheduler.load_state_dict(checkpoint[\"scheduler\"])\n",
    "    halt.load_state_dict(checkpoint[\"halt\"])\n",
    "    model.load_state_dict(checkpoint[\"model\"])\n",
    "    optimizer.load_state_dict(checkpoint[\"optimizer\"])\n",
    "    trainer.load_state_dict(checkpoint[\"trainer\"])\n",
    "    validation.load_state_dict(checkpoint[\"validator\"])\n",
    "\n",
    "trainer.run(training_data_loader, 1_500)"
   ]
  }
 ],
 "metadata": {
  "accelerator": "GPU",
  "colab": {
   "collapsed_sections": [],
   "name": "Residual@PencilSketch",
   "provenance": [
    {
     "file_id": "1Dm0KSgTyaMhLvwj3cV-n8ouV8q78uZ3k",
     "timestamp": 1635587193036
    },
    {
     "file_id": "1hIJnocRARyMdMCSKrVRmeeECMisb9IxP",
     "timestamp": 1634980467046
    },
    {
     "file_id": "1XeoNLNzpsUJ0amiBrW2SoDFhrPAzMrkv",
     "timestamp": 1634377045367
    },
    {
     "file_id": "1oJvuJOg2pHOpuTNdEk7Z-AVsmxdsKiqm",
     "timestamp": 1634256588609
    },
    {
     "file_id": "1KEpzzDXDNlgQX52TJXgSvZjpEqhw6O_4",
     "timestamp": 1634175592843
    }
   ]
  },
  "interpreter": {
   "hash": "631744a3d59189a7d4a94d6e344207297ed3ce0e4c8634612a75a3fe4af9782f"
  },
  "jupytext": {
   "cell_metadata_filter": "-all",
   "main_language": "python",
   "notebook_metadata_filter": "-all"
  },
  "kernelspec": {
   "display_name": "Python 3.9.5 64-bit ('.venv': poetry)",
   "name": "python3"
  },
  "language_info": {
   "codemirror_mode": {
    "name": "ipython",
    "version": 3
   },
   "file_extension": ".py",
   "mimetype": "text/x-python",
   "name": "python",
   "nbconvert_exporter": "python",
   "pygments_lexer": "ipython3",
   "version": "3.9.5"
  }
 },
 "nbformat": 4,
 "nbformat_minor": 5
}
