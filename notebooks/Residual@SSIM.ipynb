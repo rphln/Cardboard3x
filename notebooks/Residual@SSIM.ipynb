{
 "cells": [
  {
   "cell_type": "code",
   "execution_count": null,
   "id": "B3E3EhuDdE_N",
   "metadata": {
    "colab": {
     "base_uri": "https://localhost:8080/"
    },
    "executionInfo": {
     "elapsed": 10,
     "status": "ok",
     "timestamp": 1635800100110,
     "user": {
      "displayName": "Raphael Nepomuceno",
      "photoUrl": "https://lh3.googleusercontent.com/a-/AOh14GgL3smV3gDbD-wz9oi8Ki6ZiwZcp3ccHwaZLCXl8A=s64",
      "userId": "04510237599294724427"
     },
     "user_tz": 180
    },
    "id": "B3E3EhuDdE_N",
    "outputId": "1f54f4c3-8352-45ab-b733-ab35f7404614"
   },
   "outputs": [],
   "source": [
    "!nvidia-smi"
   ]
  },
  {
   "cell_type": "code",
   "execution_count": null,
   "id": "b56c5d60",
   "metadata": {
    "colab": {
     "base_uri": "https://localhost:8080/"
    },
    "executionInfo": {
     "elapsed": 15549,
     "status": "ok",
     "timestamp": 1635800115655,
     "user": {
      "displayName": "Raphael Nepomuceno",
      "photoUrl": "https://lh3.googleusercontent.com/a-/AOh14GgL3smV3gDbD-wz9oi8Ki6ZiwZcp3ccHwaZLCXl8A=s64",
      "userId": "04510237599294724427"
     },
     "user_tz": 180
    },
    "id": "b56c5d60",
    "lines_to_next_cell": 2,
    "outputId": "cac9b3a2-6367-40d6-b88d-8ff7f66a0a51"
   },
   "outputs": [],
   "source": [
    "!pip install 'git+https://github.com/rphln/Cardboard4.git@code'"
   ]
  },
  {
   "cell_type": "code",
   "execution_count": null,
   "id": "5ad9afdc",
   "metadata": {
    "id": "5ad9afdc"
   },
   "outputs": [],
   "source": [
    "from os import environ\n",
    "from pathlib import Path\n",
    "\n",
    "import torch\n",
    "from ignite.contrib.handlers import ProgressBar, WandBLogger\n",
    "from ignite.engine import Events, create_supervised_evaluator, create_supervised_trainer\n",
    "from ignite.handlers import (\n",
    "    Checkpoint,\n",
    "    DiskSaver,\n",
    "    EarlyStopping,\n",
    "    LRScheduler,\n",
    "    global_step_from_engine,\n",
    ")\n",
    "from ignite.metrics import Loss, RunningAverage\n",
    "from piqa.ssim import MS_SSIM as MultiScaleSSIM\n",
    "from sklearn.model_selection import train_test_split\n",
    "from torch import Tensor\n",
    "from torch.nn.functional import mse_loss, pad\n",
    "from torch.optim import Adam\n",
    "from torch.optim.lr_scheduler import StepLR\n",
    "from torch.utils.data import DataLoader\n",
    "\n",
    "from cardboard4 import TensorPairsDataset, mean_psnr, mean_ssim\n",
    "from cardboard4.models import ResidualNetwork"
   ]
  },
  {
   "cell_type": "code",
   "execution_count": null,
   "id": "1e1e1c54",
   "metadata": {
    "colab": {
     "base_uri": "https://localhost:8080/"
    },
    "executionInfo": {
     "elapsed": 37399,
     "status": "ok",
     "timestamp": 1635800166615,
     "user": {
      "displayName": "Raphael Nepomuceno",
      "photoUrl": "https://lh3.googleusercontent.com/a-/AOh14GgL3smV3gDbD-wz9oi8Ki6ZiwZcp3ccHwaZLCXl8A=s64",
      "userId": "04510237599294724427"
     },
     "user_tz": 180
    },
    "id": "1e1e1c54",
    "outputId": "1ac22278-2044-463d-d333-0d2290f9ccb8"
   },
   "outputs": [],
   "source": [
    "try:\n",
    "    from google.colab import drive\n",
    "\n",
    "    drive.mount(\"/content/drive/\", force_remount=True)\n",
    "except ImportError:\n",
    "    ROOT = Path(\"var/\")\n",
    "else:\n",
    "    ROOT = Path(\"/content/drive/MyDrive/\")\n",
    "finally:\n",
    "    ROOT.mkdir(parents=True, exist_ok=True)"
   ]
  },
  {
   "cell_type": "code",
   "execution_count": null,
   "id": "00cbf088",
   "metadata": {
    "colab": {
     "base_uri": "https://localhost:8080/"
    },
    "executionInfo": {
     "elapsed": 98951,
     "status": "ok",
     "timestamp": 1635800265563,
     "user": {
      "displayName": "Raphael Nepomuceno",
      "photoUrl": "https://lh3.googleusercontent.com/a-/AOh14GgL3smV3gDbD-wz9oi8Ki6ZiwZcp3ccHwaZLCXl8A=s64",
      "userId": "04510237599294724427"
     },
     "user_tz": 180
    },
    "id": "00cbf088",
    "outputId": "264d7d4b-19af-4102-93ef-e59a9c38930e"
   },
   "outputs": [],
   "source": [
    "!rsync --archive --ignore-existing --human-readable --info progress2 '/content/drive/MyDrive/rphln-danbooru2020-small/' '/dev/shm/'"
   ]
  },
  {
   "cell_type": "code",
   "execution_count": null,
   "id": "5342886f",
   "metadata": {
    "colab": {
     "base_uri": "https://localhost:8080/"
    },
    "executionInfo": {
     "elapsed": 11216,
     "status": "ok",
     "timestamp": 1635800276758,
     "user": {
      "displayName": "Raphael Nepomuceno",
      "photoUrl": "https://lh3.googleusercontent.com/a-/AOh14GgL3smV3gDbD-wz9oi8Ki6ZiwZcp3ccHwaZLCXl8A=s64",
      "userId": "04510237599294724427"
     },
     "user_tz": 180
    },
    "id": "5342886f",
    "outputId": "bdcc711e-b43a-4770-a36a-69d37d7bfe2f"
   },
   "outputs": [],
   "source": [
    "!cp -r '/content/drive/MyDrive/.netrc' '/root/.netrc'\n",
    "!wandb sync '/content/drive/MyDrive/wandb/latest-run/'"
   ]
  },
  {
   "cell_type": "code",
   "execution_count": null,
   "id": "a4834b46",
   "metadata": {
    "colab": {
     "base_uri": "https://localhost:8080/",
     "height": 173
    },
    "executionInfo": {
     "elapsed": 19261,
     "status": "ok",
     "timestamp": 1635800296008,
     "user": {
      "displayName": "Raphael Nepomuceno",
      "photoUrl": "https://lh3.googleusercontent.com/a-/AOh14GgL3smV3gDbD-wz9oi8Ki6ZiwZcp3ccHwaZLCXl8A=s64",
      "userId": "04510237599294724427"
     },
     "user_tz": 180
    },
    "id": "a4834b46",
    "outputId": "de45ee5b-e777-4716-8c65-037235b89209"
   },
   "outputs": [],
   "source": [
    "config = {\n",
    "    \"BATCH_SIZE\": 16,\n",
    "    \"LEARNING_RATE\": 1e-3,\n",
    "    \"PATIENCE\": 100,\n",
    "}\n",
    "\n",
    "device = torch.device(\"cuda\")\n",
    "\n",
    "if True:\n",
    "    checkpoint = None\n",
    "else:\n",
    "    environ[\"WANDB_RESUME\"] = \"allow\"\n",
    "    environ[\"WANDB_RUN_ID\"] = \"365ogza8\"\n",
    "\n",
    "    checkpoint = torch.load(\n",
    "        ROOT\n",
    "        / \"wandb\"\n",
    "        / f\"run-20210722_175244-{environ['WANDB_RUN_ID']}\"\n",
    "        / \"files\"\n",
    "        / \"checkpoint_192_loss=-0.0061.pt\"\n",
    "    )\n",
    "\n",
    "# test_with = TensorPairsDataset(ROOT / \"rphln-danbooru2020-small\" / \"test\")\n",
    "# train_with = TensorPairsDataset(ROOT / \"rphln-danbooru2020-small\" / \"train\")\n",
    "\n",
    "test_with = TensorPairsDataset(Path(\"/dev/shm/test\"))\n",
    "train_with = TensorPairsDataset(Path(\"/dev/shm/train\"))\n",
    "\n",
    "import torch\n",
    "from piqa.ssim import ms_ssim\n",
    "from piqa.utils.functional import gaussian_kernel\n",
    "from torch import Tensor\n",
    "\n",
    "\n",
    "from kornia.losses.ssim import SSIMLoss\n",
    "\n",
    "criterion = SSIMLoss(window_size=11)\n",
    "\n",
    "\n",
    "model = ResidualNetwork().to(device)\n",
    "\n",
    "optimizer = Adam(model.parameters(), lr=config[\"LEARNING_RATE\"])\n",
    "\n",
    "trainer = create_supervised_trainer(model, optimizer, criterion, device)\n",
    "\n",
    "scheduler = StepLR(optimizer, step_size=50, gamma=0.1, verbose=True)\n",
    "trainer.add_event_handler(Events.EPOCH_COMPLETED, LRScheduler(scheduler))\n",
    "\n",
    "metrics = {\n",
    "    \"loss\": Loss(criterion),\n",
    "    \"psnr\": Loss(mean_psnr),\n",
    "    \"ssim\": Loss(mean_ssim),\n",
    "}\n",
    "\n",
    "validation = create_supervised_evaluator(model, metrics, device)\n",
    "testing = create_supervised_evaluator(model, metrics, device)\n",
    "\n",
    "average = RunningAverage(output_transform=lambda loss: loss)\n",
    "average.attach(trainer, \"loss\")\n",
    "\n",
    "progress = ProgressBar()\n",
    "progress.attach(trainer, metric_names=\"all\")\n",
    "\n",
    "train_with, validate_with = train_test_split(train_with, test_size=0.2, shuffle=False)\n",
    "\n",
    "training_data_loader = DataLoader(\n",
    "    train_with,\n",
    "    config[\"BATCH_SIZE\"],\n",
    "    drop_last=True,\n",
    "    pin_memory=True,\n",
    ")\n",
    "validation_data_loader = DataLoader(\n",
    "    validate_with,\n",
    "    config[\"BATCH_SIZE\"],\n",
    "    drop_last=True,\n",
    "    pin_memory=True,\n",
    ")\n",
    "testing_data_loader = DataLoader(\n",
    "    test_with,\n",
    "    config[\"BATCH_SIZE\"],\n",
    "    drop_last=True,\n",
    "    pin_memory=True,\n",
    ")\n",
    "\n",
    "\n",
    "@trainer.on(Events.EPOCH_COMPLETED)\n",
    "def compute_metrics():\n",
    "    validation.run(validation_data_loader)\n",
    "\n",
    "\n",
    "@trainer.on(Events.COMPLETED)\n",
    "def compute_testing_metrics():\n",
    "    testing.run(testing_data_loader)\n",
    "\n",
    "\n",
    "logger = WandBLogger(\n",
    "    project=\"Cardboard4\",\n",
    "    config=config,\n",
    "    save_code=True,\n",
    "    dir=ROOT,\n",
    "    name=\"Residual @ SSIM\",\n",
    "    tags=[model.__class__.__name__, \"SSIM\", \"Check\"],\n",
    ")\n",
    "logger.watch(model, criterion, log=\"all\")\n",
    "\n",
    "logger.attach_output_handler(\n",
    "    engine=trainer,\n",
    "    event_name=Events.EPOCH_COMPLETED,\n",
    "    tag=\"training\",\n",
    "    metric_names=\"all\",\n",
    "    global_step_transform=global_step_from_engine(trainer),\n",
    ")\n",
    "\n",
    "logger.attach_output_handler(\n",
    "    engine=validation,\n",
    "    event_name=Events.EPOCH_COMPLETED,\n",
    "    tag=\"validation\",\n",
    "    metric_names=\"all\",\n",
    "    global_step_transform=global_step_from_engine(trainer),\n",
    ")\n",
    "\n",
    "logger.attach_output_handler(\n",
    "    engine=testing,\n",
    "    event_name=Events.EPOCH_COMPLETED,\n",
    "    tag=\"testing\",\n",
    "    metric_names=\"all\",\n",
    "    global_step_transform=global_step_from_engine(trainer),\n",
    ")\n",
    "\n",
    "neg_loss_score = Checkpoint.get_default_score_fn(\"loss\", -1.0)\n",
    "\n",
    "halt = EarlyStopping(\n",
    "    trainer=trainer,\n",
    "    patience=config[\"PATIENCE\"],\n",
    "    score_function=neg_loss_score,\n",
    ")\n",
    "validation.add_event_handler(Events.COMPLETED, halt)\n",
    "\n",
    "validation.add_event_handler(\n",
    "    Events.COMPLETED,\n",
    "    Checkpoint(\n",
    "        n_saved=10,\n",
    "        to_save={\n",
    "            \"scheduler\": scheduler,\n",
    "            \"halt\": halt,\n",
    "            \"model\": model,\n",
    "            \"optimizer\": optimizer,\n",
    "            \"trainer\": trainer,\n",
    "            \"validator\": validation,\n",
    "        },\n",
    "        include_self=True,\n",
    "        save_handler=DiskSaver(dirname=logger.run.dir, require_empty=False),\n",
    "        score_name=\"loss\",\n",
    "        score_function=neg_loss_score,\n",
    "        global_step_transform=global_step_from_engine(trainer),\n",
    "    ),\n",
    ")"
   ]
  },
  {
   "cell_type": "code",
   "execution_count": null,
   "id": "03430a88",
   "metadata": {
    "id": "03430a88"
   },
   "outputs": [],
   "source": [
    "if checkpoint:\n",
    "    scheduler.load_state_dict(checkpoint[\"scheduler\"])\n",
    "    halt.load_state_dict(checkpoint[\"halt\"])\n",
    "    model.load_state_dict(checkpoint[\"model\"])\n",
    "    optimizer.load_state_dict(checkpoint[\"optimizer\"])\n",
    "    trainer.load_state_dict(checkpoint[\"trainer\"])\n",
    "    validation.load_state_dict(checkpoint[\"validator\"])\n",
    "\n",
    "trainer.run(training_data_loader, 1_500)"
   ]
  }
 ],
 "metadata": {
  "accelerator": "GPU",
  "colab": {
   "collapsed_sections": [],
   "name": "Residual@SSIM",
   "provenance": [
    {
     "file_id": "1oJvuJOg2pHOpuTNdEk7Z-AVsmxdsKiqm",
     "timestamp": 1635788220733
    },
    {
     "file_id": "1KEpzzDXDNlgQX52TJXgSvZjpEqhw6O_4",
     "timestamp": 1634175592843
    }
   ]
  },
  "interpreter": {
   "hash": "631744a3d59189a7d4a94d6e344207297ed3ce0e4c8634612a75a3fe4af9782f"
  },
  "jupytext": {
   "cell_metadata_filter": "-all",
   "main_language": "python",
   "notebook_metadata_filter": "-all"
  },
  "kernelspec": {
   "display_name": "Python 3.9.5 64-bit ('.venv': poetry)",
   "name": "python3"
  },
  "language_info": {
   "codemirror_mode": {
    "name": "ipython",
    "version": 3
   },
   "file_extension": ".py",
   "mimetype": "text/x-python",
   "name": "python",
   "nbconvert_exporter": "python",
   "pygments_lexer": "ipython3",
   "version": "3.9.5"
  }
 },
 "nbformat": 4,
 "nbformat_minor": 5
}
