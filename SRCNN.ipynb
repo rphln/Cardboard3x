{
  "nbformat": 4,
  "nbformat_minor": 0,
  "metadata": {
    "colab": {
      "name": "SRCNN",
      "provenance": []
    },
    "kernelspec": {
      "name": "python3",
      "display_name": "Python 3.8.6 64-bit",
      "metadata": {
        "interpreter": {
          "hash": "767d51c1340bd893661ea55ea3124f6de3c7a262a8b4abca0554b478b1e2ff90"
        }
      }
    }
  },
  "cells": [
    {
      "source": [
        "# SRCNN"
      ],
      "cell_type": "markdown",
      "metadata": {}
    },
    {
      "source": [
        "!nvidia-smi"
      ],
      "cell_type": "code",
      "metadata": {
        "colab": {
          "base_uri": "https://localhost:8080/"
        },
        "id": "hbIE6Esm7sqn",
        "outputId": "3e851ff0-7f1d-4cd4-df51-b069da0d425b"
      },
      "execution_count": null,
      "outputs": []
    },
    {
      "source": [],
      "cell_type": "code",
      "metadata": {},
      "execution_count": null,
      "outputs": []
    }
  ]
}